{
 "cells": [
  {
   "cell_type": "code",
   "execution_count": 47,
   "id": "c1547115",
   "metadata": {},
   "outputs": [],
   "source": [
    "@decor\n",
    "def sum():\n",
    "    a=10\n",
    "    b=20\n",
    "    print(a+b)"
   ]
  },
  {
   "cell_type": "code",
   "execution_count": 2,
   "id": "0b62b30a",
   "metadata": {},
   "outputs": [
    {
     "name": "stdout",
     "output_type": "stream",
     "text": [
      "30\n"
     ]
    }
   ],
   "source": [
    "sum()"
   ]
  },
  {
   "cell_type": "code",
   "execution_count": 3,
   "id": "afea6769",
   "metadata": {},
   "outputs": [],
   "source": [
    "p = sum"
   ]
  },
  {
   "cell_type": "code",
   "execution_count": 4,
   "id": "34a66afa",
   "metadata": {},
   "outputs": [
    {
     "name": "stdout",
     "output_type": "stream",
     "text": [
      "30\n"
     ]
    }
   ],
   "source": [
    "p()"
   ]
  },
  {
   "cell_type": "code",
   "execution_count": 5,
   "id": "5cc3b7a6",
   "metadata": {},
   "outputs": [],
   "source": [
    "newsum = sum"
   ]
  },
  {
   "cell_type": "code",
   "execution_count": 6,
   "id": "29eeb3bc",
   "metadata": {},
   "outputs": [
    {
     "name": "stdout",
     "output_type": "stream",
     "text": [
      "30\n"
     ]
    }
   ],
   "source": [
    "newsum()"
   ]
  },
  {
   "cell_type": "code",
   "execution_count": 7,
   "id": "f2924b57",
   "metadata": {},
   "outputs": [
    {
     "data": {
      "text/plain": [
       "1845568642064"
      ]
     },
     "execution_count": 7,
     "metadata": {},
     "output_type": "execute_result"
    }
   ],
   "source": [
    "id(newsum)"
   ]
  },
  {
   "cell_type": "code",
   "execution_count": 8,
   "id": "84955795",
   "metadata": {},
   "outputs": [
    {
     "data": {
      "text/plain": [
       "1845568642064"
      ]
     },
     "execution_count": 8,
     "metadata": {},
     "output_type": "execute_result"
    }
   ],
   "source": [
    "id(sum)"
   ]
  },
  {
   "cell_type": "code",
   "execution_count": 9,
   "id": "c6e1fbd5",
   "metadata": {},
   "outputs": [],
   "source": [
    "def f1():\n",
    "    print(\"In f1\")"
   ]
  },
  {
   "cell_type": "code",
   "execution_count": 10,
   "id": "913d8bda",
   "metadata": {},
   "outputs": [],
   "source": [
    "m1 = f1 # creating alicing"
   ]
  },
  {
   "cell_type": "code",
   "execution_count": 11,
   "id": "3bb8f976",
   "metadata": {},
   "outputs": [
    {
     "name": "stdout",
     "output_type": "stream",
     "text": [
      "In f1\n"
     ]
    }
   ],
   "source": [
    "m1()"
   ]
  },
  {
   "cell_type": "code",
   "execution_count": 12,
   "id": "5b62602d",
   "metadata": {},
   "outputs": [
    {
     "name": "stdout",
     "output_type": "stream",
     "text": [
      "In f1\n"
     ]
    }
   ],
   "source": [
    "f1()"
   ]
  },
  {
   "cell_type": "code",
   "execution_count": 18,
   "id": "1cff5767",
   "metadata": {},
   "outputs": [],
   "source": [
    "def outer():\n",
    "    print(\"in outer\")\n",
    "    def inner():\n",
    "        print(\"in Inner\")\n",
    "    print(id(inner))\n",
    "    return inner"
   ]
  },
  {
   "cell_type": "code",
   "execution_count": 19,
   "id": "f6d0e8df",
   "metadata": {},
   "outputs": [
    {
     "name": "stdout",
     "output_type": "stream",
     "text": [
      "in outer\n",
      "1845568935248\n"
     ]
    }
   ],
   "source": [
    "n ="
   ]
  },
  {
   "cell_type": "code",
   "execution_count": 20,
   "id": "fa83a04c",
   "metadata": {},
   "outputs": [
    {
     "data": {
      "text/plain": [
       "1845568935248"
      ]
     },
     "execution_count": 20,
     "metadata": {},
     "output_type": "execute_result"
    }
   ],
   "source": [
    "id(n)"
   ]
  },
  {
   "cell_type": "code",
   "execution_count": 21,
   "id": "81e1de2e",
   "metadata": {},
   "outputs": [
    {
     "name": "stdout",
     "output_type": "stream",
     "text": [
      "in Inner\n"
     ]
    }
   ],
   "source": [
    "n()"
   ]
  },
  {
   "cell_type": "code",
   "execution_count": null,
   "id": "3b68f7aa",
   "metadata": {},
   "outputs": [],
   "source": []
  },
  {
   "cell_type": "code",
   "execution_count": 32,
   "id": "e146854f",
   "metadata": {},
   "outputs": [],
   "source": [
    "def m1():\n",
    "    def f1():\n",
    "        print(\"in f1\")\n",
    "        def c1():\n",
    "            print(\"In c1\")\n",
    "        return c1\n",
    "    return f1\n",
    "  "
   ]
  },
  {
   "cell_type": "code",
   "execution_count": 27,
   "id": "32a52e77",
   "metadata": {},
   "outputs": [],
   "source": [
    "name = m1()"
   ]
  },
  {
   "cell_type": "code",
   "execution_count": 28,
   "id": "3c50893c",
   "metadata": {},
   "outputs": [
    {
     "name": "stdout",
     "output_type": "stream",
     "text": [
      "in f1\n"
     ]
    }
   ],
   "source": [
    "name()"
   ]
  },
  {
   "cell_type": "code",
   "execution_count": 30,
   "id": "a5890e88",
   "metadata": {},
   "outputs": [],
   "source": [
    "k = m1()"
   ]
  },
  {
   "cell_type": "code",
   "execution_count": 31,
   "id": "182ff041",
   "metadata": {},
   "outputs": [
    {
     "name": "stdout",
     "output_type": "stream",
     "text": [
      "in f1\n"
     ]
    }
   ],
   "source": [
    "k()"
   ]
  },
  {
   "cell_type": "code",
   "execution_count": 33,
   "id": "4f1359c9",
   "metadata": {},
   "outputs": [],
   "source": [
    "def m1():\n",
    "    def f1():\n",
    "        print(\"in f1\")\n",
    "        def c1():\n",
    "            print(\"In c1\")\n",
    "        return c1\n",
    "    return f1\n",
    "  "
   ]
  },
  {
   "cell_type": "code",
   "execution_count": 34,
   "id": "96452aff",
   "metadata": {},
   "outputs": [],
   "source": [
    "newf1 = m1()"
   ]
  },
  {
   "cell_type": "code",
   "execution_count": 35,
   "id": "66661620",
   "metadata": {},
   "outputs": [
    {
     "name": "stdout",
     "output_type": "stream",
     "text": [
      "in f1\n"
     ]
    }
   ],
   "source": [
    "newc1 = newf1()"
   ]
  },
  {
   "cell_type": "code",
   "execution_count": 36,
   "id": "455b26d6",
   "metadata": {},
   "outputs": [
    {
     "name": "stdout",
     "output_type": "stream",
     "text": [
      "In c1\n"
     ]
    }
   ],
   "source": [
    "newc1()"
   ]
  },
  {
   "cell_type": "code",
   "execution_count": null,
   "id": "149cd0d4",
   "metadata": {},
   "outputs": [],
   "source": [
    "#decorator \n",
    "is function which inhance the fuctionality \n",
    "of existing function without changaing its \n",
    "original structure"
   ]
  },
  {
   "cell_type": "code",
   "execution_count": 40,
   "id": "38a26fe8",
   "metadata": {},
   "outputs": [],
   "source": [
    "def decor(f):\n",
    "    def inner():\n",
    "        print(\"*\"*50)\n",
    "        f()\n",
    "        print(\"*\"*50)\n",
    "    return inner"
   ]
  },
  {
   "cell_type": "code",
   "execution_count": 49,
   "id": "26670952",
   "metadata": {},
   "outputs": [],
   "source": [
    "\n",
    "def show():\n",
    "    print(\"Hello\")"
   ]
  },
  {
   "cell_type": "code",
   "execution_count": 50,
   "id": "cba628f5",
   "metadata": {},
   "outputs": [],
   "source": [
    "result = decor(show)"
   ]
  },
  {
   "cell_type": "code",
   "execution_count": 51,
   "id": "d15a3197",
   "metadata": {},
   "outputs": [
    {
     "name": "stdout",
     "output_type": "stream",
     "text": [
      "**************************************************\n",
      "Hello\n",
      "**************************************************\n"
     ]
    }
   ],
   "source": [
    "result()"
   ]
  },
  {
   "cell_type": "code",
   "execution_count": 46,
   "id": "2878b66f",
   "metadata": {},
   "outputs": [
    {
     "name": "stdout",
     "output_type": "stream",
     "text": [
      "30\n"
     ]
    }
   ],
   "source": []
  },
  {
   "cell_type": "code",
   "execution_count": 48,
   "id": "baddc6e9",
   "metadata": {},
   "outputs": [
    {
     "name": "stdout",
     "output_type": "stream",
     "text": [
      "**************************************************\n",
      "30\n",
      "**************************************************\n"
     ]
    }
   ],
   "source": [
    "sum()"
   ]
  },
  {
   "cell_type": "code",
   "execution_count": 53,
   "id": "5833f933",
   "metadata": {},
   "outputs": [],
   "source": [
    "@decor\n",
    "def display():\n",
    "    print(\"Welcome\")"
   ]
  },
  {
   "cell_type": "code",
   "execution_count": 54,
   "id": "4aaffe7c",
   "metadata": {},
   "outputs": [
    {
     "name": "stdout",
     "output_type": "stream",
     "text": [
      "**************************************************\n",
      "Welcome\n",
      "**************************************************\n"
     ]
    }
   ],
   "source": [
    "display()"
   ]
  },
  {
   "cell_type": "code",
   "execution_count": null,
   "id": "70823a07",
   "metadata": {},
   "outputs": [],
   "source": []
  },
  {
   "cell_type": "code",
   "execution_count": 56,
   "id": "42cbeb5b",
   "metadata": {},
   "outputs": [],
   "source": [
    "def login(function):\n",
    "    def inner():\n",
    "        print(\"Login to wesite\")\n",
    "        function()\n",
    "        print(\"Login successfully\")\n",
    "    return inner"
   ]
  },
  {
   "cell_type": "code",
   "execution_count": 58,
   "id": "1fe5907e",
   "metadata": {},
   "outputs": [],
   "source": [
    "@login\n",
    "def citi():\n",
    "    print(\"Fetching data from website\")"
   ]
  },
  {
   "cell_type": "code",
   "execution_count": 59,
   "id": "c1f376ba",
   "metadata": {},
   "outputs": [
    {
     "name": "stdout",
     "output_type": "stream",
     "text": [
      "Login to wesite\n",
      "Fetching data from website\n",
      "Login successfully\n"
     ]
    }
   ],
   "source": [
    "citi()"
   ]
  },
  {
   "cell_type": "code",
   "execution_count": 61,
   "id": "8aed5e4d",
   "metadata": {},
   "outputs": [],
   "source": [
    "@login\n",
    "def barclays():\n",
    "    print(\"Fetching data from barclay\")"
   ]
  },
  {
   "cell_type": "code",
   "execution_count": 62,
   "id": "1c08d81a",
   "metadata": {},
   "outputs": [
    {
     "name": "stdout",
     "output_type": "stream",
     "text": [
      "Login to wesite\n",
      "Fetching data from barclay\n",
      "Login successfully\n"
     ]
    }
   ],
   "source": [
    "barclays()"
   ]
  },
  {
   "cell_type": "code",
   "execution_count": 75,
   "id": "714bc75a",
   "metadata": {},
   "outputs": [],
   "source": [
    "def decor(function):\n",
    "    def inner(a,b):\n",
    "        if b==0:\n",
    "            print(\"We cannt divide by zero\")\n",
    "        else:\n",
    "            return function(a,b)\n",
    "    return inner\n",
    "\n",
    "\n",
    "@decor\n",
    "def div(a,b):\n",
    "    return a/b"
   ]
  },
  {
   "cell_type": "code",
   "execution_count": 76,
   "id": "e469534e",
   "metadata": {},
   "outputs": [
    {
     "name": "stdout",
     "output_type": "stream",
     "text": [
      "We cannt divide by zero\n"
     ]
    }
   ],
   "source": [
    "result = div(10,0)"
   ]
  },
  {
   "cell_type": "code",
   "execution_count": 77,
   "id": "f875e7ce",
   "metadata": {},
   "outputs": [
    {
     "name": "stdout",
     "output_type": "stream",
     "text": [
      "We cannt divide by zero\n"
     ]
    }
   ],
   "source": [
    "div(40,0)"
   ]
  },
  {
   "cell_type": "code",
   "execution_count": 78,
   "id": "354f1981",
   "metadata": {},
   "outputs": [
    {
     "data": {
      "text/plain": [
       "20.0"
      ]
     },
     "execution_count": 78,
     "metadata": {},
     "output_type": "execute_result"
    }
   ],
   "source": [
    "div(40,2)"
   ]
  },
  {
   "cell_type": "code",
   "execution_count": 79,
   "id": "dd250ffe",
   "metadata": {},
   "outputs": [
    {
     "data": {
      "text/plain": [
       "2.0"
      ]
     },
     "execution_count": 79,
     "metadata": {},
     "output_type": "execute_result"
    }
   ],
   "source": [
    "div(10,5)"
   ]
  },
  {
   "cell_type": "code",
   "execution_count": 80,
   "id": "0f08e86b",
   "metadata": {},
   "outputs": [
    {
     "name": "stdout",
     "output_type": "stream",
     "text": [
      "We cannt divide by zero\n"
     ]
    }
   ],
   "source": [
    "div(50,0)"
   ]
  },
  {
   "cell_type": "code",
   "execution_count": 82,
   "id": "433dc758",
   "metadata": {},
   "outputs": [],
   "source": [
    "#decorator chanining"
   ]
  },
  {
   "cell_type": "code",
   "execution_count": 95,
   "id": "24cb01c4",
   "metadata": {},
   "outputs": [],
   "source": [
    "def decor3(f):\n",
    "    def inner():\n",
    "        print(\"!\"*50)\n",
    "        f()\n",
    "        print(\"!\"*50)\n",
    "    return inner\n",
    "def decor2(f):\n",
    "    def inner():\n",
    "        print(\"#\"*50)\n",
    "        f()\n",
    "        print(\"#\"*50)\n",
    "    return inner\n",
    "def decor1(f):\n",
    "    def inner():\n",
    "        print(\"*\"*50)\n",
    "        f()\n",
    "        print(\"*\"*50)\n",
    "    return inner\n",
    "\n",
    "@decor1\n",
    "def show():\n",
    "    print(\"Hi\")"
   ]
  },
  {
   "cell_type": "code",
   "execution_count": 96,
   "id": "6919bad4",
   "metadata": {},
   "outputs": [
    {
     "name": "stdout",
     "output_type": "stream",
     "text": [
      "**************************************************\n",
      "Hi\n",
      "**************************************************\n"
     ]
    }
   ],
   "source": [
    "show()"
   ]
  },
  {
   "cell_type": "code",
   "execution_count": 97,
   "id": "76290f58",
   "metadata": {},
   "outputs": [
    {
     "data": {
      "text/plain": [
       "'C:\\\\Users\\\\kanti\\\\OneDrive\\\\Desktop'"
      ]
     },
     "execution_count": 97,
     "metadata": {},
     "output_type": "execute_result"
    }
   ],
   "source": [
    "pwd"
   ]
  },
  {
   "cell_type": "code",
   "execution_count": null,
   "id": "0cd2ceff",
   "metadata": {},
   "outputs": [],
   "source": []
  }
 ],
 "metadata": {
  "kernelspec": {
   "display_name": "Python 3",
   "language": "python",
   "name": "python3"
  },
  "language_info": {
   "codemirror_mode": {
    "name": "ipython",
    "version": 3
   },
   "file_extension": ".py",
   "mimetype": "text/x-python",
   "name": "python",
   "nbconvert_exporter": "python",
   "pygments_lexer": "ipython3",
   "version": "3.8.8"
  }
 },
 "nbformat": 4,
 "nbformat_minor": 5
}
